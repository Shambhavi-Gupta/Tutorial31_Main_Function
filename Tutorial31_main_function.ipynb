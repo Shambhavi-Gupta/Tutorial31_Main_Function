{
  "nbformat": 4,
  "nbformat_minor": 0,
  "metadata": {
    "colab": {
      "name": "Tutorial31_main_function.ipynb",
      "provenance": [],
      "authorship_tag": "ABX9TyMk+q7HhNNcxQYOPIBip0qi",
      "include_colab_link": true
    },
    "kernelspec": {
      "name": "python3",
      "display_name": "Python 3"
    }
  },
  "cells": [
    {
      "cell_type": "markdown",
      "metadata": {
        "id": "view-in-github",
        "colab_type": "text"
      },
      "source": [
        "<a href=\"https://colab.research.google.com/github/Shambhavi-Gupta/Tutorial31_Main_Function/blob/main/Tutorial31_main_function.ipynb\" target=\"_parent\"><img src=\"https://colab.research.google.com/assets/colab-badge.svg\" alt=\"Open In Colab\"/></a>"
      ]
    },
    {
      "cell_type": "code",
      "metadata": {
        "id": "ZZL7l2J7UvEU"
      },
      "source": [
        "def function(string):\r\n",
        "    return f\"Shambhavi is a good girl{string}\"\r\n",
        "\r\n",
        "def add(a1,a2):\r\n",
        "    return a1+a2+10\r\n",
        "\r\n",
        "#print(\"name is \",__name__)\r\n",
        "if __name__ == '__main__':\r\n",
        "   print(function(\" Sentence completed\"))\r\n",
        "   a = add(10,20)\r\n",
        "   print(a)"
      ],
      "execution_count": null,
      "outputs": []
    }
  ]
}